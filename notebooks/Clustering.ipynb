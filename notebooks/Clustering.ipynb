{
 "cells": [
  {
   "cell_type": "markdown",
   "metadata": {},
   "source": [
    "# RSS Links "
   ]
  },
  {
   "cell_type": "code",
   "execution_count": 36,
   "metadata": {
    "collapsed": true
   },
   "outputs": [],
   "source": [
    "import requests\n",
    "from bs4 import BeautifulSoup\n",
    "\n",
    "%matplotlib inline\n",
    "import matplotlib.pyplot as plt\n",
    "import os\n",
    "import nltk\n",
    "import re\n",
    "import numpy as np\n",
    "import pandas as pd\n",
    "from nltk import word_tokenize\n",
    "from nltk.tokenize import WordPunctTokenizer\n",
    "from nltk.corpus import stopwords\n",
    "from nltk.stem import SnowballStemmer\n",
    "from sklearn.feature_extraction.text import TfidfVectorizer\n",
    "from sklearn.cluster import AgglomerativeClustering\n",
    "from scipy.cluster.hierarchy import linkage, dendrogram\n",
    "from scipy.cluster.vq import kmeans, kmeans2"
   ]
  },
  {
   "cell_type": "code",
   "execution_count": 37,
   "metadata": {
    "collapsed": false
   },
   "outputs": [],
   "source": [
    "# Cleaning, tokenization, stemming of text:\n",
    "word_pattern = re.compile(\"^[^\\d\\W]+$\")\n",
    "stop_words = set(stopwords.words('english'))\n",
    "word_length = 2\n",
    "ps = SnowballStemmer(\"english\")\n",
    "def preprocessing(document):\n",
    "    tokens = WordPunctTokenizer().tokenize(document)\n",
    "    tokens = list(map(lambda x: x.lower(), tokens))\n",
    "    tokens = [i for i in tokens if re.match(word_pattern, i) and i not in stop_words and len(i)>word_length]\n",
    "    tokens = [ps.stem(i) for i in tokens]\n",
    "    tokens_text = ' '.join(tokens)\n",
    "    return tokens_text\n",
    "# new_folder = folder_stemmed + i + \".txt\""
   ]
  },
  {
   "cell_type": "code",
   "execution_count": 38,
   "metadata": {
    "collapsed": true
   },
   "outputs": [],
   "source": [
    "# Create featurevector \n",
    "def create_featurevector(document):\n",
    "    tfidf_vectorizer = TfidfVectorizer(max_df=0.8, min_df=0.1)\n",
    "    tfidf_matrix = tfidf_vectorizer.fit_transform(document)\n",
    "    return tfidf_matrix, tfidf_vectorizer"
   ]
  },
  {
   "cell_type": "code",
   "execution_count": 54,
   "metadata": {
    "collapsed": false
   },
   "outputs": [],
   "source": [
    "category_links = {\"sports\": \"http://feeds.bbci.co.uk/sport/football/rss.xml?edition=int\", \n",
    "                \"politics\":\"http://feeds.bbci.co.uk/news/politics/rss.xml\",\n",
    "                 \"technology\":\"https://www.technologyreview.com/topnews.rss\",\n",
    "                 \"finance\":\"http://feeds.bbci.co.uk/news/business/rss.xml\",\n",
    "                 \"education\":\"http://feeds.bbci.co.uk/news/education/rss.xml?edition=uk\",\n",
    "                 \"entertainment\":\"http://feeds.bbci.co.uk/news/entertainment_and_arts/rss.xml?edition=uk\"}"
   ]
  },
  {
   "cell_type": "code",
   "execution_count": 55,
   "metadata": {
    "collapsed": false
   },
   "outputs": [
    {
     "name": "stdout",
     "output_type": "stream",
     "text": [
      "[('finance', 'http://feeds.bbci.co.uk/news/business/rss.xml'), ('entertainment', 'http://feeds.bbci.co.uk/news/entertainment_and_arts/rss.xml?edition=uk'), ('sports', 'http://feeds.bbci.co.uk/sport/football/rss.xml?edition=int'), ('politics', 'http://feeds.bbci.co.uk/news/politics/rss.xml'), ('education', 'http://feeds.bbci.co.uk/news/education/rss.xml?edition=uk'), ('technology', 'https://www.technologyreview.com/topnews.rss')]\n"
     ]
    }
   ],
   "source": [
    "print category_links.items()"
   ]
  },
  {
   "cell_type": "code",
   "execution_count": 56,
   "metadata": {
    "collapsed": false
   },
   "outputs": [
    {
     "name": "stdout",
     "output_type": "stream",
     "text": [
      "finance http://feeds.bbci.co.uk/news/business/rss.xml\n",
      "u'http://www.bbc.co.uk/news/business-39456662'\n",
      "u'http://www.bbc.co.uk/news/business-39449344'\n",
      "u'http://www.bbc.co.uk/news/business-39461667'\n",
      "u'http://www.bbc.co.uk/news/business-39456072'\n",
      "u'http://www.bbc.co.uk/news/world-us-canada-39458365'\n",
      "u'http://www.bbc.co.uk/news/business-39453844'\n",
      "u'http://www.bbc.co.uk/news/39452242'\n",
      "u'http://www.bbc.co.uk/news/business-39457438'\n",
      "u'http://www.bbc.co.uk/news/business-39452238'\n",
      "u'http://www.bbc.co.uk/news/business-39453026'\n",
      "u'http://www.bbc.co.uk/news/business-39452635'\n",
      "u'http://www.bbc.co.uk/news/world-europe-39452778'\n",
      "u'http://www.bbc.co.uk/news/business-39452827'\n",
      "u'http://www.bbc.co.uk/news/world-africa-39451040'\n",
      "u'http://www.bbc.co.uk/news/business-39452639'\n",
      "u'http://www.bbc.co.uk/news/business-39432553'\n",
      "u'http://www.bbc.co.uk/news/uk-39457579'\n",
      "u'http://www.bbc.co.uk/news/business-39461669'\n",
      "u'http://www.bbc.co.uk/news/39455059'\n",
      "u'http://www.bbc.co.uk/news/business-39448344'\n",
      "u'http://www.bbc.co.uk/news/business-39452666'\n",
      "u'http://www.bbc.co.uk/news/business-39447722'\n",
      "u'http://www.bbc.co.uk/news/business-39441815'\n",
      "u'http://www.bbc.co.uk/news/business-39455809'\n",
      "u'http://www.bbc.co.uk/newsbeat/articles/39452039'\n",
      "u'http://www.bbc.co.uk/news/world-us-canada-39442090'\n",
      "u'http://www.bbc.co.uk/news/business-39441970'\n",
      "u'http://www.bbc.co.uk/news/business-39429819'\n",
      "u'http://www.bbc.co.uk/news/business-39404487'\n",
      "u'http://www.bbc.co.uk/news/business-39410915'\n",
      "u'http://www.bbc.co.uk/news/business-39290041'\n",
      "u'http://www.bbc.co.uk/news/business-39256909'\n",
      "u'http://www.bbc.co.uk/news/business-39339036'\n",
      "u'http://www.bbc.co.uk/news/business-39129619'\n",
      "u'http://www.bbc.co.uk/news/business-39380881'\n",
      "u'http://www.bbc.co.uk/news/business-39366831'\n",
      "u'http://www.bbc.co.uk/news/business-39371460'\n",
      "entertainment http://feeds.bbci.co.uk/news/entertainment_and_arts/rss.xml?edition=uk\n",
      "sports http://feeds.bbci.co.uk/sport/football/rss.xml?edition=int\n",
      "politics http://feeds.bbci.co.uk/news/politics/rss.xml\n",
      "education http://feeds.bbci.co.uk/news/education/rss.xml?edition=uk\n",
      "technology https://www.technologyreview.com/topnews.rss\n"
     ]
    }
   ],
   "source": [
    "documents = []\n",
    "documents_titles = []\n",
    "documents_labels = []\n",
    "for category, cat_link in category_links.items():\n",
    "#     documents[category] = []\n",
    "#     documents_titles[category] = []\n",
    "    print category, cat_link\n",
    "    result = requests.get(cat_link)\n",
    "    soup = BeautifulSoup(result.text, \"lxml-xml\")\n",
    "    links_list = soup.findAll(\"item\")\n",
    "#     print links_list\n",
    "    for item in links_list:\n",
    "        link = item.link.text\n",
    "        soup2 = BeautifulSoup(requests.get(link).content, \"lxml\")\n",
    "#         documents_titles[category].append(soup2.title.text)\n",
    "        ignore_list = [\"script\", \"style\"]\n",
    "        for ignore in soup2(ignore_list):\n",
    "            ignore.extract()\n",
    "        processed_text = preprocessing(soup2.body.get_text())\n",
    "#         documents[category].append(processed_text)   \n",
    "        documents.append(processed_text)\n",
    "        documents_titles.append(soup2.title.text)\n",
    "        documents_labels.append(category)\n",
    "        if category==\"finance\":\n",
    "            print repr(link)\n",
    "\n",
    "# print(feature_vector.shape)\n",
    "# soup2.body.get_text()"
   ]
  },
  {
   "cell_type": "code",
   "execution_count": null,
   "metadata": {
    "collapsed": true
   },
   "outputs": [],
   "source": []
  },
  {
   "cell_type": "code",
   "execution_count": 57,
   "metadata": {
    "collapsed": false
   },
   "outputs": [
    {
     "data": {
      "text/plain": [
       "(226, 728)"
      ]
     },
     "execution_count": 57,
     "metadata": {},
     "output_type": "execute_result"
    }
   ],
   "source": [
    "# len(documents_titles[\"sports\"])\n",
    "# print len(documents_labels)\n",
    "feature_vector, vectorizer = create_featurevector(documents)\n",
    "feature_vector.shape\n"
   ]
  },
  {
   "cell_type": "code",
   "execution_count": 53,
   "metadata": {
    "collapsed": false
   },
   "outputs": [
    {
     "name": "stdout",
     "output_type": "stream",
     "text": [
      "http://www.bbc.co.uk/news/entertainment-arts-39430590\n",
      "http://www.bbc.co.uk/news/entertainment-arts-39470235\n",
      "http://www.bbc.co.uk/news/world-europe-39465615\n",
      "http://www.bbc.co.uk/news/entertainment-arts-39453507\n",
      "http://www.bbc.co.uk/news/entertainment-arts-39444025\n",
      "http://www.bbc.co.uk/news/world-us-canada-39462526\n",
      "http://www.bbc.co.uk/news/entertainment-arts-39458212\n",
      "http://www.bbc.co.uk/news/entertainment-arts-39459310\n",
      "http://www.bbc.co.uk/news/entertainment-arts-39453276\n",
      "http://www.bbc.co.uk/news/entertainment-arts-39441461\n",
      "http://www.bbc.co.uk/newsbeat/articles/39457838\n",
      "http://www.bbc.co.uk/news/uk-39457591\n",
      "http://www.bbc.co.uk/newsbeat/articles/39452035\n",
      "http://www.bbc.co.uk/news/entertainment-arts-39441941\n",
      "http://www.bbc.co.uk/news/entertainment-arts-39443421\n",
      "http://www.bbc.co.uk/news/uk-39442422\n",
      "http://www.bbc.co.uk/news/uk-england-nottinghamshire-39461656\n",
      "http://www.bbc.co.uk/news/uk-england-norfolk-39445414\n",
      "http://www.bbc.co.uk/news/world-us-canada-39465190\n",
      "http://www.bbc.co.uk/news/entertainment-arts-39456278\n",
      "http://www.bbc.co.uk/news/entertainment-arts-39461085\n",
      "http://www.bbc.co.uk/news/entertainment-arts-39453441\n",
      "http://www.bbc.co.uk/newsbeat/articles/39457830\n",
      "http://www.bbc.co.uk/newsbeat/articles/39459441\n",
      "http://www.bbc.co.uk/news/entertainment-arts-38808070\n",
      "http://www.bbc.co.uk/news/entertainment-arts-39416508\n",
      "http://www.bbc.co.uk/news/entertainment-arts-39405660\n",
      "http://www.bbc.co.uk/news/entertainment-arts-39371863\n",
      "http://www.bbc.co.uk/news/entertainment-arts-39357849\n",
      "http://www.bbc.co.uk/news/entertainment-arts-39351710\n",
      "http://www.bbc.co.uk/news/in-pictures-39353541\n",
      "http://www.bbc.co.uk/news/entertainment-arts-39327403\n"
     ]
    }
   ],
   "source": [
    "# one = requests.get(\"http://rss.cnn.com/~r/rss/money_news_economy/~3/1JYcV4hy51Y/index.html\").text\n",
    "# one = link_to_doc(\"http://rss.cnn.com/~r/rss/money_news_economy/~3/1JYcV4hy51Y/index.html\")\n",
    "soup = BeautifulSoup(requests.get(\"http://feeds.bbci.co.uk/news/entertainment_and_arts/rss.xml?edition=uk\").text, \"lxml-xml\")\n",
    "# print soup.prettify()\n",
    "links_list = soup.findAll(\"item\")\n",
    "# print links_list\n",
    "for item in links_list:\n",
    "    print item.link.text\n"
   ]
  },
  {
   "cell_type": "code",
   "execution_count": 58,
   "metadata": {
    "collapsed": false
   },
   "outputs": [],
   "source": [
    "# Naive Bayes Multinomial Classifier\n",
    "from sklearn.naive_bayes import MultinomialNB\n",
    "clf = MultinomialNB().fit(feature_vector, documents_labels)"
   ]
  },
  {
   "cell_type": "code",
   "execution_count": 59,
   "metadata": {
    "collapsed": true
   },
   "outputs": [],
   "source": [
    "def link_to_doc(link):\n",
    "    soup = BeautifulSoup(requests.get(link).content, \"lxml\")\n",
    "    ignore_list = [\"script\", \"style\"]\n",
    "    for ignore in soup(ignore_list):\n",
    "        ignore.extract()\n",
    "    return soup.body.get_text()\n",
    "\n",
    "def classify_doc(document):\n",
    "    processed_text = preprocessing(document)\n",
    "    new_feature_vector = vectorizer.transform([processed_text])\n",
    "    predicted = clf.predict(new_feature_vector)\n",
    "    return predicted"
   ]
  },
  {
   "cell_type": "code",
   "execution_count": 65,
   "metadata": {
    "collapsed": false
   },
   "outputs": [
    {
     "data": {
      "text/plain": [
       "array(['technology'], \n",
       "      dtype='|S13')"
      ]
     },
     "execution_count": 65,
     "metadata": {},
     "output_type": "execute_result"
    }
   ],
   "source": [
    "prediction_link = \"http://www.nltk.org\"\n",
    "doc = link_to_doc(prediction_link)\n",
    "# print(doc)\n",
    "classify_doc(doc)"
   ]
  },
  {
   "cell_type": "code",
   "execution_count": 132,
   "metadata": {
    "collapsed": false
   },
   "outputs": [
    {
     "data": {
      "text/plain": [
       "(88,)"
      ]
     },
     "execution_count": 132,
     "metadata": {},
     "output_type": "execute_result"
    }
   ],
   "source": [
    "# Kmeans Clustering \n",
    "cluster_num = 2\n",
    "test = kmeans2(feature_vector.toarray(), cluster_num)\n",
    "test[1].shape\n",
    "# results_kmeans = list(zip([documents_titles[x] for x in documents],test[1]))\n",
    "# results_kmeans.sort(key = lambda x: x[1])\n",
    "# print(test[1])\n",
    "# plot_cluster_labels(test[1])"
   ]
  },
  {
   "cell_type": "code",
   "execution_count": null,
   "metadata": {
    "collapsed": true
   },
   "outputs": [],
   "source": []
  }
 ],
 "metadata": {
  "kernelspec": {
   "display_name": "Python 2",
   "language": "python",
   "name": "python2"
  },
  "language_info": {
   "codemirror_mode": {
    "name": "ipython",
    "version": 2
   },
   "file_extension": ".py",
   "mimetype": "text/x-python",
   "name": "python",
   "nbconvert_exporter": "python",
   "pygments_lexer": "ipython2",
   "version": "2.7.13"
  }
 },
 "nbformat": 4,
 "nbformat_minor": 2
}
